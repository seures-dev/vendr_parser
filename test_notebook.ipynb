{
 "cells": [
  {
   "cell_type": "code",
   "execution_count": null,
   "id": "8395f292",
   "metadata": {},
   "outputs": [],
   "source": [
    "from scraper import Scraper\n",
    "import asyncio\n",
    "from multiprocessing import Queue\n",
    "\n",
    "scraper = Scraper('1', Queue(), Queue(), Queue() )\n",
    "\n",
    "asyncio.create_task(scraper.start())"
   ]
  },
  {
   "cell_type": "code",
   "execution_count": null,
   "id": "677b6544",
   "metadata": {},
   "outputs": [],
   "source": [
    "await scraper.scrape_book_links(\"https://books.toscrape.com/index.html\")"
   ]
  },
  {
   "cell_type": "code",
   "execution_count": null,
   "id": "c5a7a45b",
   "metadata": {},
   "outputs": [],
   "source": [
    "self = scraper\n",
    "from urllib.parse import urljoin\n",
    "links = self.page.locator(\".product_pod h3 a\")\n",
    "links_count = await links.count()\n",
    "\n",
    "for i in range(links_count):\n",
    "    link = links.nth(i)\n",
    "    book_href = await link.get_attribute(\"href\")\n",
    "    print(book_href)\n",
    "    book_url = urljoin(self.page.url, book_href)\n",
    "    print(book_url)"
   ]
  },
  {
   "cell_type": "code",
   "execution_count": null,
   "id": "55eb6349",
   "metadata": {},
   "outputs": [],
   "source": [
    "import re\n",
    "self = scraper\n",
    "book_title = await self.page.text_content(\".product_main h1\")\n",
    "book_category = await self.page.locator(\".breadcrumb li a\").last.text_content()\n",
    "book_description = await self.page.inner_text(\".product_page p:not([class])\")\n",
    "table_rows = self.page.locator(\".table.table-striped tr\")\n",
    "data = {}\n",
    "rows_count = await table_rows.count()\n",
    "for i in range(rows_count):\n",
    "    row = table_rows.nth(i)\n",
    "    key = await row.locator(\"th\").text_content()\n",
    "    value = await row.locator(\"td\").text_content()\n",
    "    data[key] = value\n",
    "\n",
    "book_upc = data[\"UPC\"]\n",
    "book_price = data[\"Price (excl. tax)\"]\n",
    "book_tax = data[\"Price (incl. tax)\"]\n",
    "book_availability = 'in stock' in data[\"Availability\"].lower()\n",
    "book_number_of_reviews = data[\"Number of reviews\"]\n",
    "bac_text = re.search(r'\\d+', data[\"Availability\"]).group()\n",
    "if bac_text.isdigit():\n",
    "    book_availability_count = int(bac_text)\n",
    "else:\n",
    "    book_availability_count = 0\n",
    "\n",
    "book_title, book_category, book_description, book_upc, book_price, book_tax, book_availability, book_number_of_reviews, book_availability_count"
   ]
  },
  {
   "cell_type": "code",
   "execution_count": null,
   "id": "34a2ca68",
   "metadata": {},
   "outputs": [
    {
     "ename": "TimeoutError",
     "evalue": "Page.inner_text: Timeout 5000ms exceeded.\nCall log:\n  - waiting for locator(\".product_page p:not([class])\")\n",
     "output_type": "error",
     "traceback": [
      "\u001b[0;31m---------------------------------------------------------------------------\u001b[0m",
      "\u001b[0;31mTimeoutError\u001b[0m                              Traceback (most recent call last)",
      "Cell \u001b[0;32mIn[4], line 4\u001b[0m\n\u001b[1;32m      2\u001b[0m book_title \u001b[38;5;241m=\u001b[39m \u001b[38;5;28;01mawait\u001b[39;00m \u001b[38;5;28mself\u001b[39m\u001b[38;5;241m.\u001b[39mpage\u001b[38;5;241m.\u001b[39mtext_content(\u001b[38;5;124m\"\u001b[39m\u001b[38;5;124m.product_main h1\u001b[39m\u001b[38;5;124m\"\u001b[39m)\n\u001b[1;32m      3\u001b[0m book_category \u001b[38;5;241m=\u001b[39m \u001b[38;5;28;01mawait\u001b[39;00m \u001b[38;5;28mself\u001b[39m\u001b[38;5;241m.\u001b[39mpage\u001b[38;5;241m.\u001b[39mlocator(\u001b[38;5;124m\"\u001b[39m\u001b[38;5;124m.breadcrumb li a\u001b[39m\u001b[38;5;124m\"\u001b[39m)\u001b[38;5;241m.\u001b[39mlast\u001b[38;5;241m.\u001b[39mtext_content()\n\u001b[0;32m----> 4\u001b[0m book_description \u001b[38;5;241m=\u001b[39m \u001b[38;5;28;01mawait\u001b[39;00m \u001b[38;5;28mself\u001b[39m\u001b[38;5;241m.\u001b[39mpage\u001b[38;5;241m.\u001b[39minner_text(\u001b[38;5;124m\"\u001b[39m\u001b[38;5;124m.product_page p:not([class])\u001b[39m\u001b[38;5;124m\"\u001b[39m)\n\u001b[1;32m      7\u001b[0m table_rows \u001b[38;5;241m=\u001b[39m \u001b[38;5;28mself\u001b[39m\u001b[38;5;241m.\u001b[39mpage\u001b[38;5;241m.\u001b[39mlocator(\u001b[38;5;124m\"\u001b[39m\u001b[38;5;124m.table.table-striped tr\u001b[39m\u001b[38;5;124m\"\u001b[39m)\n\u001b[1;32m      8\u001b[0m data \u001b[38;5;241m=\u001b[39m {}\n",
      "File \u001b[0;32m~/projects/test_task2/venv/lib/python3.10/site-packages/playwright/async_api/_generated.py:10739\u001b[0m, in \u001b[0;36mPage.inner_text\u001b[0;34m(self, selector, strict, timeout)\u001b[0m\n\u001b[1;32m  10710\u001b[0m \u001b[38;5;28;01masync\u001b[39;00m \u001b[38;5;28;01mdef\u001b[39;00m\u001b[38;5;250m \u001b[39m\u001b[38;5;21minner_text\u001b[39m(\n\u001b[1;32m  10711\u001b[0m     \u001b[38;5;28mself\u001b[39m,\n\u001b[1;32m  10712\u001b[0m     selector: \u001b[38;5;28mstr\u001b[39m,\n\u001b[0;32m   (...)\u001b[0m\n\u001b[1;32m  10715\u001b[0m     timeout: typing\u001b[38;5;241m.\u001b[39mOptional[\u001b[38;5;28mfloat\u001b[39m] \u001b[38;5;241m=\u001b[39m \u001b[38;5;28;01mNone\u001b[39;00m,\n\u001b[1;32m  10716\u001b[0m ) \u001b[38;5;241m-\u001b[39m\u001b[38;5;241m>\u001b[39m \u001b[38;5;28mstr\u001b[39m:\n\u001b[1;32m  10717\u001b[0m \u001b[38;5;250m    \u001b[39m\u001b[38;5;124;03m\"\"\"Page.inner_text\u001b[39;00m\n\u001b[1;32m  10718\u001b[0m \n\u001b[1;32m  10719\u001b[0m \u001b[38;5;124;03m    Returns `element.innerText`.\u001b[39;00m\n\u001b[0;32m   (...)\u001b[0m\n\u001b[1;32m  10735\u001b[0m \u001b[38;5;124;03m    str\u001b[39;00m\n\u001b[1;32m  10736\u001b[0m \u001b[38;5;124;03m    \"\"\"\u001b[39;00m\n\u001b[1;32m  10738\u001b[0m     \u001b[38;5;28;01mreturn\u001b[39;00m mapping\u001b[38;5;241m.\u001b[39mfrom_maybe_impl(\n\u001b[0;32m> 10739\u001b[0m         \u001b[38;5;28;01mawait\u001b[39;00m \u001b[38;5;28mself\u001b[39m\u001b[38;5;241m.\u001b[39m_impl_obj\u001b[38;5;241m.\u001b[39minner_text(\n\u001b[1;32m  10740\u001b[0m             selector\u001b[38;5;241m=\u001b[39mselector, strict\u001b[38;5;241m=\u001b[39mstrict, timeout\u001b[38;5;241m=\u001b[39mtimeout\n\u001b[1;32m  10741\u001b[0m         )\n\u001b[1;32m  10742\u001b[0m     )\n",
      "File \u001b[0;32m~/projects/test_task2/venv/lib/python3.10/site-packages/playwright/_impl/_page.py:983\u001b[0m, in \u001b[0;36mPage.inner_text\u001b[0;34m(self, selector, strict, timeout)\u001b[0m\n\u001b[1;32m    980\u001b[0m \u001b[38;5;28;01masync\u001b[39;00m \u001b[38;5;28;01mdef\u001b[39;00m\u001b[38;5;250m \u001b[39m\u001b[38;5;21minner_text\u001b[39m(\n\u001b[1;32m    981\u001b[0m     \u001b[38;5;28mself\u001b[39m, selector: \u001b[38;5;28mstr\u001b[39m, strict: \u001b[38;5;28mbool\u001b[39m \u001b[38;5;241m=\u001b[39m \u001b[38;5;28;01mNone\u001b[39;00m, timeout: \u001b[38;5;28mfloat\u001b[39m \u001b[38;5;241m=\u001b[39m \u001b[38;5;28;01mNone\u001b[39;00m\n\u001b[1;32m    982\u001b[0m ) \u001b[38;5;241m-\u001b[39m\u001b[38;5;241m>\u001b[39m \u001b[38;5;28mstr\u001b[39m:\n\u001b[0;32m--> 983\u001b[0m     \u001b[38;5;28;01mreturn\u001b[39;00m \u001b[38;5;28;01mawait\u001b[39;00m \u001b[38;5;28mself\u001b[39m\u001b[38;5;241m.\u001b[39m_main_frame\u001b[38;5;241m.\u001b[39minner_text(\u001b[38;5;241m*\u001b[39m\u001b[38;5;241m*\u001b[39mlocals_to_params(\u001b[38;5;28mlocals\u001b[39m()))\n",
      "File \u001b[0;32m~/projects/test_task2/venv/lib/python3.10/site-packages/playwright/_impl/_frame.py:695\u001b[0m, in \u001b[0;36mFrame.inner_text\u001b[0;34m(self, selector, strict, timeout)\u001b[0m\n\u001b[1;32m    692\u001b[0m \u001b[38;5;28;01masync\u001b[39;00m \u001b[38;5;28;01mdef\u001b[39;00m\u001b[38;5;250m \u001b[39m\u001b[38;5;21minner_text\u001b[39m(\n\u001b[1;32m    693\u001b[0m     \u001b[38;5;28mself\u001b[39m, selector: \u001b[38;5;28mstr\u001b[39m, strict: \u001b[38;5;28mbool\u001b[39m \u001b[38;5;241m=\u001b[39m \u001b[38;5;28;01mNone\u001b[39;00m, timeout: \u001b[38;5;28mfloat\u001b[39m \u001b[38;5;241m=\u001b[39m \u001b[38;5;28;01mNone\u001b[39;00m\n\u001b[1;32m    694\u001b[0m ) \u001b[38;5;241m-\u001b[39m\u001b[38;5;241m>\u001b[39m \u001b[38;5;28mstr\u001b[39m:\n\u001b[0;32m--> 695\u001b[0m     \u001b[38;5;28;01mreturn\u001b[39;00m \u001b[38;5;28;01mawait\u001b[39;00m \u001b[38;5;28mself\u001b[39m\u001b[38;5;241m.\u001b[39m_channel\u001b[38;5;241m.\u001b[39msend(\n\u001b[1;32m    696\u001b[0m         \u001b[38;5;124m\"\u001b[39m\u001b[38;5;124minnerText\u001b[39m\u001b[38;5;124m\"\u001b[39m, \u001b[38;5;28mself\u001b[39m\u001b[38;5;241m.\u001b[39m_timeout, locals_to_params(\u001b[38;5;28mlocals\u001b[39m())\n\u001b[1;32m    697\u001b[0m     )\n",
      "File \u001b[0;32m~/projects/test_task2/venv/lib/python3.10/site-packages/playwright/_impl/_connection.py:69\u001b[0m, in \u001b[0;36mChannel.send\u001b[0;34m(self, method, timeout_calculator, params, is_internal, title)\u001b[0m\n\u001b[1;32m     61\u001b[0m \u001b[38;5;28;01masync\u001b[39;00m \u001b[38;5;28;01mdef\u001b[39;00m\u001b[38;5;250m \u001b[39m\u001b[38;5;21msend\u001b[39m(\n\u001b[1;32m     62\u001b[0m     \u001b[38;5;28mself\u001b[39m,\n\u001b[1;32m     63\u001b[0m     method: \u001b[38;5;28mstr\u001b[39m,\n\u001b[0;32m   (...)\u001b[0m\n\u001b[1;32m     67\u001b[0m     title: \u001b[38;5;28mstr\u001b[39m \u001b[38;5;241m=\u001b[39m \u001b[38;5;28;01mNone\u001b[39;00m,\n\u001b[1;32m     68\u001b[0m ) \u001b[38;5;241m-\u001b[39m\u001b[38;5;241m>\u001b[39m Any:\n\u001b[0;32m---> 69\u001b[0m     \u001b[38;5;28;01mreturn\u001b[39;00m \u001b[38;5;28;01mawait\u001b[39;00m \u001b[38;5;28mself\u001b[39m\u001b[38;5;241m.\u001b[39m_connection\u001b[38;5;241m.\u001b[39mwrap_api_call(\n\u001b[1;32m     70\u001b[0m         \u001b[38;5;28;01mlambda\u001b[39;00m: \u001b[38;5;28mself\u001b[39m\u001b[38;5;241m.\u001b[39m_inner_send(method, timeout_calculator, params, \u001b[38;5;28;01mFalse\u001b[39;00m),\n\u001b[1;32m     71\u001b[0m         is_internal,\n\u001b[1;32m     72\u001b[0m         title,\n\u001b[1;32m     73\u001b[0m     )\n",
      "File \u001b[0;32m~/projects/test_task2/venv/lib/python3.10/site-packages/playwright/_impl/_connection.py:558\u001b[0m, in \u001b[0;36mConnection.wrap_api_call\u001b[0;34m(self, cb, is_internal, title)\u001b[0m\n\u001b[1;32m    556\u001b[0m     \u001b[38;5;28;01mreturn\u001b[39;00m \u001b[38;5;28;01mawait\u001b[39;00m cb()\n\u001b[1;32m    557\u001b[0m \u001b[38;5;28;01mexcept\u001b[39;00m \u001b[38;5;167;01mException\u001b[39;00m \u001b[38;5;28;01mas\u001b[39;00m error:\n\u001b[0;32m--> 558\u001b[0m     \u001b[38;5;28;01mraise\u001b[39;00m rewrite_error(error, \u001b[38;5;124mf\u001b[39m\u001b[38;5;124m\"\u001b[39m\u001b[38;5;132;01m{\u001b[39;00mparsed_st[\u001b[38;5;124m'\u001b[39m\u001b[38;5;124mapiName\u001b[39m\u001b[38;5;124m'\u001b[39m]\u001b[38;5;132;01m}\u001b[39;00m\u001b[38;5;124m: \u001b[39m\u001b[38;5;132;01m{\u001b[39;00merror\u001b[38;5;132;01m}\u001b[39;00m\u001b[38;5;124m\"\u001b[39m) \u001b[38;5;28;01mfrom\u001b[39;00m\u001b[38;5;250m \u001b[39m\u001b[38;5;28;01mNone\u001b[39;00m\n\u001b[1;32m    559\u001b[0m \u001b[38;5;28;01mfinally\u001b[39;00m:\n\u001b[1;32m    560\u001b[0m     \u001b[38;5;28mself\u001b[39m\u001b[38;5;241m.\u001b[39m_api_zone\u001b[38;5;241m.\u001b[39mset(\u001b[38;5;28;01mNone\u001b[39;00m)\n",
      "\u001b[0;31mTimeoutError\u001b[0m: Page.inner_text: Timeout 5000ms exceeded.\nCall log:\n  - waiting for locator(\".product_page p:not([class])\")\n"
     ]
    }
   ],
   "source": [
    "self = scraper\n",
    "book_title = await self.page.text_content(\".product_main h1\")\n",
    "book_category = await self.page.locator(\".breadcrumb li a\").last.text_content()\n",
    "\n",
    "book_description = await self.page.inner_text(\".product_page p:not([class])\")\n",
    "\n",
    "\n",
    "table_rows = self.page.locator(\".table.table-striped tr\")\n",
    "data = {}\n",
    "rows_count = await table_rows.count()\n",
    "for i in range(rows_count):\n",
    "    row = table_rows.nth(i)\n",
    "    key = await row.locator(\"th\").text_content()\n",
    "    value = await row.locator(\"td\").text_content()\n",
    "    data[key] = value\n",
    "\n",
    "book_upc = data[\"UPC\"]\n",
    "book_price = data[\"Price (excl. tax)\"]\n",
    "book_tax = data[\"Price (incl. tax)\"]\n",
    "book_availability = 'in stock' in data[\"Availability\"].lower()\n",
    "book_number_of_reviews = data[\"Number of reviews\"]\n",
    "bac_text = re.search(r'\\d+', data[\"Availability\"]).group()\n",
    "if bac_text.isdigit():\n",
    "    book_availability_count = int(bac_text)\n",
    "else:\n",
    "    book_availability_count = 0\n"
   ]
  }
 ],
 "metadata": {
  "kernelspec": {
   "display_name": "venv",
   "language": "python",
   "name": "python3"
  },
  "language_info": {
   "codemirror_mode": {
    "name": "ipython",
    "version": 3
   },
   "file_extension": ".py",
   "mimetype": "text/x-python",
   "name": "python",
   "nbconvert_exporter": "python",
   "pygments_lexer": "ipython3",
   "version": "3.10.12"
  }
 },
 "nbformat": 4,
 "nbformat_minor": 5
}
